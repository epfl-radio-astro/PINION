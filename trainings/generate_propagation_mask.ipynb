{
 "cells": [
  {
   "cell_type": "markdown",
   "metadata": {},
   "source": [
    "# Propagation mask generator\n",
    "This jupyter file generates the propagation mask with the simple mean free path of light from Choudhury 2009"
   ]
  },
  {
   "cell_type": "code",
   "execution_count": null,
   "metadata": {},
   "outputs": [],
   "source": [
    "# Selects the root of the project\n",
    "project_root = \"/path/to/project/root\"\n",
    "\n",
    "# files location\n",
    "filepath = \"/path/to/simulation/files/folder/\"\n",
    "memmap = True # Memory mapping might need to be disabled depending on the system\n",
    "show = True"
   ]
  },
  {
   "cell_type": "code",
   "execution_count": null,
   "metadata": {},
   "outputs": [],
   "source": [
    "import os\n",
    "os.chdir(project_root)\n",
    "print(\"working from: \" + os.getcwd())\n",
    "\n",
    "import numpy as np\n",
    "from tqdm.auto import tqdm\n",
    "from astropy.cosmology import WMAP3\n",
    "import matplotlib.pyplot as plt\n",
    "from matplotlib.lines import Line2D\n",
    "import matplotlib as mpl\n",
    "import glob\n",
    "import collections\n",
    "import astropy.units as u\n",
    "import astropy.constants as cst\n",
    "from generate_kernel import generate_kernel\n",
    "import tools\n",
    "import scipy.ndimage as ndi\n",
    "\n",
    "mpl.rcParams[\"figure.dpi\"] = 100\n",
    "\n",
    "# load the cosmology\n",
    "cosmo = WMAP3\n",
    "\n",
    "# prepare the files\n",
    "redshifts_str, files_nsrc  = tools._get_files(filepath, 'nsrc')\n",
    "redshifts_str,  files_irate = tools._get_files(filepath, 'irate')\n",
    "\n",
    "# load the data\n",
    "redshifts_arr, nsrc_arr   = tools.load(files_nsrc, memmap) \n",
    "redshifts_arr, irates_arr = tools.load(files_irate, memmap) # 1/s\n",
    "\n",
    "irates_arr /= u.s\n",
    "irates_max = np.max(irates_arr)\n",
    "log_irates_arr = np.log10(irates_max.value)/np.log10(irates_arr.value) # zero when nan or inf"
   ]
  },
  {
   "cell_type": "code",
   "execution_count": null,
   "metadata": {},
   "outputs": [],
   "source": [
    "# 1) Compute the mean free path and convert it to px units.\n",
    "def mfp(z):\n",
    "    \"\"\"\n",
    "    Returns the mfp for this redshift in Mpc\n",
    "    \"\"\"\n",
    "    return cst.c / cosmo.H(z) * 0.1 * np.power((1+z)/4, -2.55)\n",
    "\n",
    "def mfp_in_px(z):\n",
    "    \"\"\"\n",
    "    Returns the mfp in pixel units\n",
    "    \n",
    "    z: float32\n",
    "        Redshift\n",
    "    \"\"\"\n",
    "    mpc_per_px = 2.381*u.Mpc # 500Mpc/300px/0.7\n",
    "    return mfp(z).to(u.Mpc)/mpc_per_px\n",
    "\n",
    "# creates the result\n",
    "results = np.zeros_like(nsrc_arr, dtype=np.float32)\n",
    "max_nsrc = np.max(nsrc_arr)\n",
    "\n",
    "files   = []\n",
    "filesv2 = []\n",
    "for i in tqdm(range(46)):\n",
    "    # select the mass of sources\n",
    "    cube = nsrc_arr[i,:]\n",
    "\n",
    "    # generate the radius in px units\n",
    "    radius = mfp_in_px(redshifts_arr[i])\n",
    "\n",
    "    # generate the kernel\n",
    "    kernel = generate_kernel(radius, 3)\n",
    "            \n",
    "    # convolve the mass of sources volume with the kernel\n",
    "    experiment = ndi.convolve(cube, kernel)\n",
    "\n",
    "    results[i,:] = experiment\n",
    "\n",
    "# save\n",
    "sort_idx = np.argsort([float(z) for z in redshifts_str])[::-1]\n",
    "\n",
    "sorted_redshifts_str = [redshifts_str[idx] for idx in sort_idx]\n",
    "\n",
    "for i, z in enumerate(sorted_redshifts_str):\n",
    "    newf = f\"{filepath}mask_z{z}.npz\"\n",
    "    print(\"{}: Writing: {}\".format(i, newf))\n",
    "    data = results[i,:,:,:]\n",
    "    with open(newf, 'wb') as nf:\n",
    "        np.save(nf, data)"
   ]
  }
 ],
 "metadata": {
  "interpreter": {
   "hash": "c891e8ca657637a07b62b2ae950b6fd4cb9a6baed4e3a6a047034aa61abd96f7"
  },
  "kernelspec": {
   "display_name": "Python 3.9.10 ('pinn9')",
   "language": "python",
   "name": "python3"
  },
  "language_info": {
   "codemirror_mode": {
    "name": "ipython",
    "version": 3
   },
   "file_extension": ".py",
   "mimetype": "text/x-python",
   "name": "python",
   "nbconvert_exporter": "python",
   "pygments_lexer": "ipython3",
   "version": "3.9.10"
  }
 },
 "nbformat": 4,
 "nbformat_minor": 4
}
